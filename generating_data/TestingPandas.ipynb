{
 "cells": [
  {
   "cell_type": "code",
   "execution_count": 7,
   "metadata": {},
   "outputs": [],
   "source": [
    "import pandas as pd\n",
    "import random\n",
    "import numpy as np"
   ]
  },
  {
   "cell_type": "code",
   "execution_count": 4,
   "metadata": {},
   "outputs": [],
   "source": [
    "# Create data frame with dates\n",
    "date_range = pd.date_range(start='1/1/2020', end='1/8/2020', freq='H')\n",
    "df = pd.DataFrame(date_range, columns=['datetime'])\n"
   ]
  },
  {
   "cell_type": "code",
   "execution_count": null,
   "metadata": {},
   "outputs": [],
   "source": []
  },
  {
   "cell_type": "code",
   "execution_count": 16,
   "metadata": {},
   "outputs": [],
   "source": [
    "# Generate data, return as list. \n",
    "def generate_prices(num_of_data,\\\n",
    "                    init_lower=60,\\\n",
    "                    init_higher=120,\\\n",
    "                    mean=0,\\\n",
    "                    stddev=3):\n",
    "\n",
    "    send = []\n",
    "    # First price\n",
    "    send.append(np.random.randint(init_lower, init_higher))\n",
    "    for i in range(num_of_data-1):\n",
    "        #price_{i+1} = price_i + random.normal(mean, stddev)\n",
    "        send.append(send[-1] + np.random.normal(mean, stddev))\n",
    "        \n",
    "    return send"
   ]
  },
  {
   "cell_type": "code",
   "execution_count": 21,
   "metadata": {},
   "outputs": [],
   "source": [
    "# Add generated data to data frame\n",
    "df['priceA'] = generate_prices(len(df))\n",
    "df['priceB'] = generate_prices(len(df))\n",
    "df['priceC'] = generate_prices(len(df))"
   ]
  },
  {
   "cell_type": "code",
   "execution_count": 22,
   "metadata": {},
   "outputs": [
    {
     "data": {
      "text/html": [
       "<div>\n",
       "<style scoped>\n",
       "    .dataframe tbody tr th:only-of-type {\n",
       "        vertical-align: middle;\n",
       "    }\n",
       "\n",
       "    .dataframe tbody tr th {\n",
       "        vertical-align: top;\n",
       "    }\n",
       "\n",
       "    .dataframe thead th {\n",
       "        text-align: right;\n",
       "    }\n",
       "</style>\n",
       "<table border=\"1\" class=\"dataframe\">\n",
       "  <thead>\n",
       "    <tr style=\"text-align: right;\">\n",
       "      <th></th>\n",
       "      <th>datetime</th>\n",
       "      <th>priceA</th>\n",
       "      <th>priceB</th>\n",
       "      <th>priceC</th>\n",
       "    </tr>\n",
       "  </thead>\n",
       "  <tbody>\n",
       "    <tr>\n",
       "      <th>0</th>\n",
       "      <td>2020-01-01 00:00:00</td>\n",
       "      <td>88.000000</td>\n",
       "      <td>98.000000</td>\n",
       "      <td>73.000000</td>\n",
       "    </tr>\n",
       "    <tr>\n",
       "      <th>1</th>\n",
       "      <td>2020-01-01 01:00:00</td>\n",
       "      <td>88.578050</td>\n",
       "      <td>95.895609</td>\n",
       "      <td>73.666198</td>\n",
       "    </tr>\n",
       "    <tr>\n",
       "      <th>2</th>\n",
       "      <td>2020-01-01 02:00:00</td>\n",
       "      <td>92.698460</td>\n",
       "      <td>96.084136</td>\n",
       "      <td>74.404100</td>\n",
       "    </tr>\n",
       "    <tr>\n",
       "      <th>3</th>\n",
       "      <td>2020-01-01 03:00:00</td>\n",
       "      <td>95.792155</td>\n",
       "      <td>91.630454</td>\n",
       "      <td>75.538741</td>\n",
       "    </tr>\n",
       "    <tr>\n",
       "      <th>4</th>\n",
       "      <td>2020-01-01 04:00:00</td>\n",
       "      <td>98.307472</td>\n",
       "      <td>88.002944</td>\n",
       "      <td>78.456243</td>\n",
       "    </tr>\n",
       "  </tbody>\n",
       "</table>\n",
       "</div>"
      ],
      "text/plain": [
       "             datetime     priceA     priceB     priceC\n",
       "0 2020-01-01 00:00:00  88.000000  98.000000  73.000000\n",
       "1 2020-01-01 01:00:00  88.578050  95.895609  73.666198\n",
       "2 2020-01-01 02:00:00  92.698460  96.084136  74.404100\n",
       "3 2020-01-01 03:00:00  95.792155  91.630454  75.538741\n",
       "4 2020-01-01 04:00:00  98.307472  88.002944  78.456243"
      ]
     },
     "execution_count": 22,
     "metadata": {},
     "output_type": "execute_result"
    }
   ],
   "source": [
    "df.head()"
   ]
  },
  {
   "cell_type": "code",
   "execution_count": null,
   "metadata": {},
   "outputs": [],
   "source": []
  }
 ],
 "metadata": {
  "kernelspec": {
   "display_name": "Python 3",
   "language": "python",
   "name": "python3"
  },
  "language_info": {
   "codemirror_mode": {
    "name": "ipython",
    "version": 3
   },
   "file_extension": ".py",
   "mimetype": "text/x-python",
   "name": "python",
   "nbconvert_exporter": "python",
   "pygments_lexer": "ipython3",
   "version": "3.7.7"
  }
 },
 "nbformat": 4,
 "nbformat_minor": 4
}
